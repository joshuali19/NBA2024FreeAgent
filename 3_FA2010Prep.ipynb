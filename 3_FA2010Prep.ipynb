{
 "cells": [
  {
   "cell_type": "code",
   "execution_count": 1,
   "id": "cdaac25d-c80e-49b5-8fdd-acbec20c9e48",
   "metadata": {},
   "outputs": [],
   "source": [
    "import pandas as pd\n",
    "import sqlite3"
   ]
  },
  {
   "cell_type": "markdown",
   "id": "43d95c2e-d464-4190-b6fd-35c7d03bbcf7",
   "metadata": {},
   "source": [
    "## Free Agents 2010-20"
   ]
  },
  {
   "cell_type": "markdown",
   "id": "a03de8ef-09c2-4057-ba64-8cde7f40d9f6",
   "metadata": {},
   "source": [
    "### Load Data"
   ]
  },
  {
   "cell_type": "code",
   "execution_count": 2,
   "id": "e7c70747-2278-4b6c-8c11-cfffc2a5d668",
   "metadata": {},
   "outputs": [],
   "source": [
    "fa_2010 = pd.read_csv(\"./raw_data/nba_contracts_history.csv\")"
   ]
  },
  {
   "cell_type": "markdown",
   "id": "db163da9-b461-4c8d-ac78-62b5fbcb780c",
   "metadata": {},
   "source": [
    "### Transform Data"
   ]
  },
  {
   "cell_type": "code",
   "execution_count": 3,
   "id": "244ae051-0416-480d-950a-05995311dc22",
   "metadata": {},
   "outputs": [],
   "source": [
    "# Drop Unnecessary Columns\n",
    "fa_2010 = fa_2010.drop(columns = ['CONTRACT_END', 'W', 'L', 'FTM', 'FTA', 'FT%', 'OREB', 'DREB', 'PF'])\n",
    "\n",
    "# Build helpful transformed features\n",
    "fa_2010['eFG'] = (fa_2010['FGM'] + 0.5 * fa_2010['3PM']) / fa_2010['FGA']\n",
    "fa_2010['PPG'] = fa_2010['PTS'] / fa_2010['GP']\n",
    "fa_2010['APG'] = fa_2010['AST'] / fa_2010['GP']\n",
    "fa_2010['RPG'] = fa_2010['REB'] / fa_2010['GP']\n",
    "fa_2010['SPG'] = fa_2010['STL'] / fa_2010['GP']\n",
    "fa_2010['BPG'] = fa_2010['BLK'] / fa_2010['GP']\n",
    "fa_2010['MPG'] = fa_2010['MIN'] / fa_2010['GP']\n",
    "fa_2010['PREV_YEAR'] = fa_2010['CONTRACT_START'] - 1"
   ]
  },
  {
   "cell_type": "markdown",
   "id": "cf90c51e-eb2b-459b-90ad-925769bcd08e",
   "metadata": {},
   "source": [
    "## SQL Connection: Connect Free Agent Data to All-Star & All-NBA Data"
   ]
  },
  {
   "cell_type": "code",
   "execution_count": 4,
   "id": "5192f220-2462-4d04-bf3d-e5e78fde215f",
   "metadata": {},
   "outputs": [],
   "source": [
    "con = sqlite3.connect('./nba_data.db')\n",
    "cursor = con.cursor()\n",
    "\n",
    "# get the All-Star and All-NBA tables\n",
    "allstar = pd.read_sql_query(\"SELECT * FROM allStar\", con)\n",
    "allnba = pd.read_sql_query(\"SELECT * FROM allNBA\", con)\n",
    "\n",
    "con.close()"
   ]
  },
  {
   "cell_type": "code",
   "execution_count": 5,
   "id": "2b1d6462-3368-440b-8efa-4e00bc0c3ad5",
   "metadata": {},
   "outputs": [],
   "source": [
    "con = sqlite3.connect('./nba_data.db')\n",
    "cursor = con.cursor()\n",
    "\n",
    "# write the free agent 2010-20 dataset as a SQL table\n",
    "fa_2010.to_sql('FA2010', con, index=True, if_exists='replace')\n",
    "\n",
    "# Join FA data with all-Star and all-NBA data\n",
    "sql = '''SELECT FA.NAME, FA.CONTRACT_START, FA.AVG_SALARY, FA.AGE, FA.EFG,\n",
    "FA.PPG, FA.APG, FA.RPG, FA.SPG, FA.BPG, FA.MPG, allStar.isAllStar, aN.is_AllNBA\n",
    "FROM FA2010 FA\n",
    "LEFT JOIN allStar ON (FA.NAME = allStar.Name AND FA.PREV_YEAR = allStar.year)\n",
    "LEFT JOIN allNBA aN ON (FA.NAME = aN.Name AND FA.PREV_YEAR = aN.Season_start)\n",
    "'''\n",
    "\n",
    "cursor.execute(sql)\n",
    "\n",
    "result = cursor.fetchall()\n",
    "\n",
    "fa_2010_full = pd.DataFrame(result, columns = ['Name', 'FA_Year', 'AVG_SALARY', 'Age',\n",
    "                                               'eFG', 'PPG', 'APG', 'RPG', 'SPG', 'BPG',\n",
    "                                               'MPG', 'is_AllStar', 'is_AllNBA'])\n",
    "\n",
    "# data cleansing\n",
    "fa_2010_full['is_AllStar'] = fa_2010_full['is_AllStar'].fillna(value=0)\n",
    "fa_2010_full['is_AllNBA'] = fa_2010_full['is_AllNBA'].fillna(value=0)\n",
    "\n",
    "# write joined table to SQL table\n",
    "fa_2010_full.to_sql('FA2010_FULL', con, index=True, if_exists='replace')\n",
    "\n",
    "con.close()"
   ]
  }
 ],
 "metadata": {
  "kernelspec": {
   "display_name": "Python [conda env:PIC16B] *",
   "language": "python",
   "name": "conda-env-PIC16B-py"
  },
  "language_info": {
   "codemirror_mode": {
    "name": "ipython",
    "version": 3
   },
   "file_extension": ".py",
   "mimetype": "text/x-python",
   "name": "python",
   "nbconvert_exporter": "python",
   "pygments_lexer": "ipython3",
   "version": "3.8.15"
  }
 },
 "nbformat": 4,
 "nbformat_minor": 5
}
