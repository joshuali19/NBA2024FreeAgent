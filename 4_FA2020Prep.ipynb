{
 "cells": [
  {
   "cell_type": "code",
   "execution_count": 1,
   "id": "fd077d68-06f0-4475-8feb-0f94066eeeee",
   "metadata": {},
   "outputs": [],
   "source": [
    "from nba_api.stats.endpoints import commonallplayers\n",
    "import pandas as pd\n",
    "import sqlite3"
   ]
  },
  {
   "cell_type": "markdown",
   "id": "d12aaa7f-e0f3-4381-afd5-198ba9037013",
   "metadata": {
    "tags": []
   },
   "source": [
    "## Obtain Current Player Information"
   ]
  },
  {
   "cell_type": "code",
   "execution_count": 2,
   "id": "d17019b7-a60a-4a6f-8d0f-a6b410f80f2b",
   "metadata": {},
   "outputs": [],
   "source": [
    "# get common info of current players\n",
    "cp = commonallplayers.CommonAllPlayers(season='2023-24')\n",
    "\n",
    "# obtain the first data frame\n",
    "cp_df = cp.get_data_frames()[0]\n",
    "\n",
    "# subset by players that have been playing since 2020.\n",
    "curr_players_info = cp_df[cp_df['TO_YEAR'] >= '2020']"
   ]
  },
  {
   "cell_type": "code",
   "execution_count": 3,
   "id": "fa7e74f7-812a-4517-917e-e369a975a0dc",
   "metadata": {},
   "outputs": [],
   "source": [
    "curr_players_info.to_csv('./intermediate_data/curr_players_info.csv', header = True, index=False)"
   ]
  },
  {
   "cell_type": "markdown",
   "id": "d134c56f-96e0-4ac2-b6df-74a79bc6997d",
   "metadata": {
    "tags": []
   },
   "source": [
    "## SQL Connection: Join Contracts and Player DF in SQL DB"
   ]
  },
  {
   "cell_type": "markdown",
   "id": "a310d123-7642-4e21-8c6d-4a9eb80b0052",
   "metadata": {},
   "source": [
    "### Load Data"
   ]
  },
  {
   "cell_type": "code",
   "execution_count": 4,
   "id": "214f1f31-d05a-4d7a-a967-32ede43f86e9",
   "metadata": {},
   "outputs": [],
   "source": [
    "nba_contracts = pd.read_csv('./raw_data/nba_contracts.csv')"
   ]
  },
  {
   "cell_type": "markdown",
   "id": "541e6daa-2402-4499-974b-bbb0ce7e0e72",
   "metadata": {},
   "source": [
    "### Transform Data"
   ]
  },
  {
   "cell_type": "code",
   "execution_count": 5,
   "id": "d387e3cc-77fe-4e93-bb04-7e1f1aeba41a",
   "metadata": {
    "tags": []
   },
   "outputs": [],
   "source": [
    "# obtain a better ID to merge on\n",
    "nba_contracts['player_slug'] = nba_contracts['FreeAgent'].str.lower()\n",
    "nba_contracts['player_slug'] = nba_contracts['player_slug'].str.replace(' ', '_', regex=False).str.replace('.', '', regex=False).str.replace(\"'\", '', regex=False)"
   ]
  },
  {
   "cell_type": "code",
   "execution_count": 6,
   "id": "49f8df53-7cb9-484b-8596-562bf21cce4c",
   "metadata": {},
   "outputs": [],
   "source": [
    "sqliteConnection = sqlite3.connect('nba_data.db')\n",
    "\n",
    "# write current player info and contract data as SQL tables\n",
    "curr_players_info.to_sql(name = 'curr_players_info', con = sqliteConnection, index = True, if_exists='replace')\n",
    "nba_contracts.to_sql(name = 'nba_contracts', con = sqliteConnection, index=True, if_exists='replace')\n",
    "\n",
    "sqliteConnection.close()"
   ]
  },
  {
   "cell_type": "markdown",
   "id": "e9a4a80b-1044-4661-aa9f-af144e76bda0",
   "metadata": {
    "tags": []
   },
   "source": [
    "### SQL Query to merge the 2 datasets"
   ]
  },
  {
   "cell_type": "code",
   "execution_count": 7,
   "id": "e745ea94-5afc-4d3e-85b9-aca02a5522a0",
   "metadata": {},
   "outputs": [],
   "source": [
    "sqliteConnection = sqlite3.connect('nba_data.db')\n",
    "# Create cursor object \n",
    "cursor = sqliteConnection.cursor() \n",
    "  \n",
    "# Query for INNER JOIN \n",
    "sql = '''SELECT C.PERSON_ID, N.FreeAgent, N.Position, N.AVG_SALARY, N.FA_Year \n",
    "FROM nba_contracts N\n",
    "LEFT JOIN curr_players_info C\n",
    "ON N.player_slug = C.PLAYER_SLUG;'''\n",
    "  \n",
    "# Executing the query \n",
    "cursor.execute(sql) \n",
    "  \n",
    "# Fetching rows from the result table \n",
    "result = cursor.fetchall() \n",
    "\n",
    "person_id_df = pd.DataFrame(result, columns = ['ID', 'Name', 'Position', 'AVG_SALARY', 'FA_Year'])\n",
    "  \n",
    "# Closing the connection \n",
    "sqliteConnection.close() "
   ]
  },
  {
   "cell_type": "code",
   "execution_count": 8,
   "id": "d720b6cd-7d0a-4682-8a29-ea8abf3cfa50",
   "metadata": {},
   "outputs": [],
   "source": [
    "# obtaining the ids of free Agents to be connected to their statistics\n",
    "fa_ids = person_id_df[person_id_df['ID'] == person_id_df['ID']]\n",
    "\n",
    "# transform data to include previous season\n",
    "fa_ids = fa_ids.sort_values(by = ['ID', 'FA_Year'])\n",
    "fa_ids.loc[:, 'Prev_Season'] = fa_ids.apply(lambda x: str(x['FA_Year']-1) + '-' + str(x['FA_Year'])[2:], axis = 1)"
   ]
  },
  {
   "cell_type": "markdown",
   "id": "299208fd-44a0-43da-82b9-85985eae6afb",
   "metadata": {},
   "source": [
    "### Load Cleaned Data to SQL Database"
   ]
  },
  {
   "cell_type": "code",
   "execution_count": 9,
   "id": "0ed96aae-99ae-402e-b3f6-58b7b26f64ae",
   "metadata": {},
   "outputs": [],
   "source": [
    "sqliteConnection = sqlite3.connect('./nba_data.db')\n",
    "\n",
    "fa_ids.to_sql(name = 'freeAgentInfo', con = sqliteConnection, index = True, if_exists='replace')\n",
    "\n",
    "sqliteConnection.close()"
   ]
  },
  {
   "cell_type": "markdown",
   "id": "356512fa-9e2b-4921-b3a5-a58f9d2c3b31",
   "metadata": {},
   "source": [
    "## NBA Free Agent Stats"
   ]
  },
  {
   "cell_type": "markdown",
   "id": "f4fa392f-437f-4196-ba09-12f3b387aa4b",
   "metadata": {},
   "source": [
    "### Extract Data"
   ]
  },
  {
   "cell_type": "code",
   "execution_count": 10,
   "id": "d0c9e6fe-ada8-488e-b5a0-acc0a2c53008",
   "metadata": {},
   "outputs": [],
   "source": [
    "from nba_api.stats.endpoints import playercareerstats\n",
    "import time\n",
    "\n",
    "# For every single free agent, obtain their statistics from their previous year.\n",
    "items = []\n",
    "for index, row in fa_ids.iterrows():\n",
    "    playerID = int(row['ID'])\n",
    "    seasonID = str(row['FA_Year']-1) + '-' + str(row['FA_Year'])[2:]\n",
    "    playerStats = playercareerstats.PlayerCareerStats(playerID)\n",
    "    playerStats_DF = playerStats.season_totals_regular_season.get_data_frame()\n",
    "    playerStats_row = playerStats_DF[playerStats_DF['SEASON_ID'] == seasonID].to_dict(orient = \"records\")\n",
    "    if playerStats_row:\n",
    "        playerStats_row = playerStats_row[-1]\n",
    "        items.append(playerStats_row)\n",
    "    time.sleep(1)\n",
    "    "
   ]
  },
  {
   "cell_type": "markdown",
   "id": "826a84b8-7a29-4c8a-bf37-6e6be9f5dc40",
   "metadata": {},
   "source": [
    "### Load Data"
   ]
  },
  {
   "cell_type": "code",
   "execution_count": 12,
   "id": "2a5f3a3e-b347-414c-8821-9e54390370fd",
   "metadata": {},
   "outputs": [],
   "source": [
    "sqliteConnection = sqlite3.connect('nba_data.db')\n",
    "nba_FA_szn_stats = pd.DataFrame(items)\n",
    "nba_FA_szn_stats.to_sql(name = 'freeAgentStats', con = sqliteConnection, index = True, if_exists='replace')\n",
    "\n",
    "sqliteConnection.close()"
   ]
  },
  {
   "cell_type": "markdown",
   "id": "18cead6d-8030-4476-882b-c1d999a786b5",
   "metadata": {},
   "source": [
    "### SQL Connection: Connect FAs with their Stats"
   ]
  },
  {
   "cell_type": "code",
   "execution_count": 13,
   "id": "7929a43c-62f0-436c-a45c-f724cdea8b7f",
   "metadata": {},
   "outputs": [],
   "source": [
    "sqliteConnection = sqlite3.connect('nba_data.db')\n",
    "# Create cursor object \n",
    "cursor = sqliteConnection.cursor() \n",
    "  \n",
    "# Query for INNER JOIN \n",
    "sql = '''SELECT FAS.PLAYER_ID, FAI.Name, FAI.Position, FAI.AVG_SALARY, FAI.FA_Year, FAS.PLAYER_AGE, FAS.GP, FAS.MIN, FAS.FGM,\n",
    "FAS.FGA, FAS.FG_PCT, FAS.FG3M, FAS.FG3A, FAS.FG3_PCT, FAS.FTM, FAS.FTA, FAS.FT_PCT, FAS.OREB, FAS.DREB,\n",
    "FAS.REB, FAS.AST, FAS.STL, FAS.BLK, FAS.TOV, FAS.PF, FAS.PTS\n",
    "FROM freeAgentInfo FAI\n",
    "LEFT JOIN freeAgentStats FAS\n",
    "ON FAI.ID = FAS.PLAYER_ID\n",
    "AND FAI.Prev_Season = FAS.SEASON_ID;'''\n",
    "  \n",
    "# Executing the query \n",
    "cursor.execute(sql) \n",
    "  \n",
    "# Fetching rows from the result table \n",
    "result = cursor.fetchall() \n",
    "\n",
    "fa_full = pd.DataFrame(result, columns = ['ID', 'Name', 'Position', 'Contract', 'FA_Year', 'Age',\n",
    "                                            'GP', 'MIN', 'FGM', 'FGA', 'FG_PCT', 'FG3M', 'FG3A',\n",
    "                                            'FG3_PCT', 'FTM', 'FTA', 'FT_PCT', 'OREB', 'DREB',\n",
    "                                            'REB', 'AST', 'STL', 'BLK', 'TOV', 'PF', 'PTS'])\n",
    "  \n",
    "# Closing the connection \n",
    "sqliteConnection.close() "
   ]
  },
  {
   "cell_type": "markdown",
   "id": "ea3a5bd7-4e3a-4b9e-b356-c3bf7dd29f0c",
   "metadata": {},
   "source": [
    "### SQL Connection: Connect FAs with Stats with All-Star and All-NBA"
   ]
  },
  {
   "cell_type": "code",
   "execution_count": 14,
   "id": "617cf047-75f7-48dd-b0a6-465e9f6c0220",
   "metadata": {},
   "outputs": [],
   "source": [
    "sqliteConnection = sqlite3.connect('nba_data.db')\n",
    "# Create cursor object \n",
    "cursor = sqliteConnection.cursor() \n",
    "  \n",
    "# Query for INNER JOIN \n",
    "sql = '''SELECT FAS.PLAYER_ID, FAI.Name, FAI.Position, FAI.AVG_SALARY, FAI.FA_Year, FAS.PLAYER_AGE, FAS.GP, FAS.MIN, FAS.FGM,\n",
    "FAS.FGA, FAS.FG_PCT, FAS.FG3M, FAS.FG3A, FAS.FG3_PCT, FAS.FTM, FAS.FTA, FAS.FT_PCT, FAS.OREB, FAS.DREB,\n",
    "FAS.REB, FAS.AST, FAS.STL, FAS.BLK, FAS.TOV, FAS.PF, FAS.PTS, aN.is_AllNBA, aST.isAllStar\n",
    "FROM freeAgentInfo FAI\n",
    "LEFT JOIN freeAgentStats FAS\n",
    "ON FAI.ID = FAS.PLAYER_ID\n",
    "AND FAI.Prev_Season = FAS.SEASON_ID\n",
    "LEFT JOIN allNBA aN\n",
    "ON FAI.Name = aN.Name\n",
    "AND FAI.Prev_Season = aN.Season\n",
    "LEFT JOIN allstar aST\n",
    "ON FAI.Name = aST.Name\n",
    "AND FAI.Prev_Season = aST.Season;'''\n",
    "  \n",
    "# Executing the query \n",
    "cursor.execute(sql) \n",
    "  \n",
    "# Fetching rows from the result table \n",
    "result = cursor.fetchall() \n",
    "\n",
    "fa_full_ALLNBA = pd.DataFrame(result, columns = ['ID', 'Name', 'Position', 'Contract', 'FA_Year', 'Age',\n",
    "                                            'GP', 'MIN', 'FGM', 'FGA', 'FG_PCT', 'FG3M', 'FG3A',\n",
    "                                            'FG3_PCT', 'FTM', 'FTA', 'FT_PCT', 'OREB', 'DREB',\n",
    "                                            'REB', 'AST', 'STL', 'BLK', 'TOV', 'PF', 'PTS', 'is_AllNBA', 'is_AllStar'])\n",
    "\n",
    "# Data Transformation and Relabeling\n",
    "fa_full_ALLNBA['is_AllNBA'] = fa_full_ALLNBA['is_AllNBA'].fillna(value=0)\n",
    "fa_full_ALLNBA['is_AllStar'] = fa_full_ALLNBA['is_AllStar'].fillna(value=0)\n",
    "fa_full_ALLNBA['PPG'] = fa_full_ALLNBA['PTS']/fa_full_ALLNBA['GP']\n",
    "fa_full_ALLNBA['APG'] = fa_full_ALLNBA['AST']/fa_full_ALLNBA['GP']\n",
    "fa_full_ALLNBA['RPG'] = fa_full_ALLNBA['REB']/fa_full_ALLNBA['GP']\n",
    "fa_full_ALLNBA['SPG'] = fa_full_ALLNBA['STL']/fa_full_ALLNBA['GP']\n",
    "fa_full_ALLNBA['BPG'] = fa_full_ALLNBA['BLK']/fa_full_ALLNBA['GP']\n",
    "fa_full_ALLNBA['MPG'] = fa_full_ALLNBA['MIN']/fa_full_ALLNBA['GP']\n",
    "fa_full_ALLNBA['eFG'] = (fa_full_ALLNBA['FGM'] + fa_full_ALLNBA['FG3M']*0.5)/fa_full_ALLNBA['FGA']\n",
    "fa_full = fa_full_ALLNBA[['Name', 'ID', 'Contract', 'FA_Year', 'Age', 'eFG', 'PPG', 'APG', 'RPG', 'SPG', 'BPG', 'MPG', 'is_AllNBA', 'is_AllStar']]\n",
    "\n",
    "fa_full.to_sql(name = 'FA_FULL', con = sqliteConnection, index=True, if_exists = 'replace')\n",
    "\n",
    "# Closing the connection \n",
    "sqliteConnection.close() "
   ]
  }
 ],
 "metadata": {
  "kernelspec": {
   "display_name": "Python [conda env:PIC16B] *",
   "language": "python",
   "name": "conda-env-PIC16B-py"
  },
  "language_info": {
   "codemirror_mode": {
    "name": "ipython",
    "version": 3
   },
   "file_extension": ".py",
   "mimetype": "text/x-python",
   "name": "python",
   "nbconvert_exporter": "python",
   "pygments_lexer": "ipython3",
   "version": "3.8.15"
  }
 },
 "nbformat": 4,
 "nbformat_minor": 5
}
