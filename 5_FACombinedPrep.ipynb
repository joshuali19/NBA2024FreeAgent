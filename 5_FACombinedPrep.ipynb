{
 "cells": [
  {
   "cell_type": "code",
   "execution_count": 1,
   "id": "e60b3465-eb56-474d-8951-f059b3485541",
   "metadata": {},
   "outputs": [],
   "source": [
    "import pandas as pd\n",
    "import os\n",
    "import re\n",
    "import sqlite3"
   ]
  },
  {
   "cell_type": "markdown",
   "id": "6291ed26-a769-404e-a805-6d44b11f8f6e",
   "metadata": {},
   "source": [
    "## Advanced Stats from 2014-24"
   ]
  },
  {
   "cell_type": "markdown",
   "id": "884567ab-4c84-4e70-80d0-7aa804b6af2d",
   "metadata": {},
   "source": [
    "### Load and Transform Data"
   ]
  },
  {
   "cell_type": "code",
   "execution_count": 2,
   "id": "d4c24b4a-dc95-43a0-85a8-1341d0b9692a",
   "metadata": {},
   "outputs": [],
   "source": [
    "dfs = []\n",
    "\n",
    "# for each file (year) in advanced_stats (each file contains a year of stats)\n",
    "for filename in os.scandir('./advanced_stats/'):\n",
    "    if re.findall('\\d+', filename.path):\n",
    "        year = re.findall('\\d+', filename.path)[0]\n",
    "        # read data from file\n",
    "        df = pd.read_csv(filename.path)\n",
    "        \n",
    "        # obtain necessary advanced statistics\n",
    "        df = df[['Player', 'Pos', 'Age', 'G', 'MP', 'OWS', 'DWS', 'WS', 'WS/48', 'OBPM', 'DBPM', 'BPM', 'VORP']]\n",
    "        \n",
    "        # transform data\n",
    "        df.loc[:, 'Player'] = df['Player'].str.replace('*', '', regex=False)\n",
    "        df[['Season']] = year + '-' + str(int(year[2:])+1)\n",
    "        df[['Season_FOR']] = int(year) + 1\n",
    "        dfs.append(df)\n",
    "        \n",
    "# build a dataframe from each year\n",
    "all_players_2014_2024 = pd.concat(dfs)"
   ]
  },
  {
   "cell_type": "markdown",
   "id": "fd88e5fb-d3ca-4828-b42a-e5d00f2619a0",
   "metadata": {
    "tags": []
   },
   "source": [
    "## Player Info"
   ]
  },
  {
   "cell_type": "markdown",
   "id": "55091a88-dc4a-4a91-8d01-b77cc6d2e6d0",
   "metadata": {
    "tags": []
   },
   "source": [
    "### Load Data"
   ]
  },
  {
   "cell_type": "code",
   "execution_count": 3,
   "id": "e2e1337f-f990-4615-81b8-1722a48adaf5",
   "metadata": {},
   "outputs": [],
   "source": [
    "from nba_api.stats.static import players\n",
    "\n",
    "# get current players\n",
    "playersList = players.get_players()\n",
    "\n",
    "playersDF = pd.DataFrame(playersList)"
   ]
  },
  {
   "cell_type": "markdown",
   "id": "dacc2594-ed07-49a3-abba-368a15ff61f1",
   "metadata": {},
   "source": [
    "### Transform Data; Merge with Advanced Stats"
   ]
  },
  {
   "cell_type": "code",
   "execution_count": 4,
   "id": "84a8d3c4-c706-4319-8832-49cf10e3670b",
   "metadata": {},
   "outputs": [],
   "source": [
    "players_w_ids = all_players_2014_2024.merge(right = playersDF, left_on = 'Player', right_on = 'full_name')\n",
    "players_w_ids = players_w_ids.drop(columns = ['full_name', 'first_name', 'last_name', 'is_active'])"
   ]
  },
  {
   "cell_type": "markdown",
   "id": "fbca6970-c789-45e5-ba18-57cddf595924",
   "metadata": {},
   "source": [
    "## SQL Connection: Merge Advanced Stats with Free Agent Data + Stats"
   ]
  },
  {
   "cell_type": "code",
   "execution_count": 5,
   "id": "c30e9ae6-148c-41fb-b14a-02a0f4caf5f7",
   "metadata": {},
   "outputs": [],
   "source": [
    "con = sqlite3.connect('./nba_data.db')\n",
    "cursor = con.cursor()\n",
    "\n",
    "# read in tables for FA from 2010-20 and 2020-24\n",
    "fa_2010 = pd.read_sql_query(\"SELECT * FROM FA2010_FULL\", con)\n",
    "fa_2020 = pd.read_sql_query(\"SELECT * FROM FA_FULL\", con)\n",
    "con.close()"
   ]
  },
  {
   "cell_type": "markdown",
   "id": "542ff82b-fbd9-4749-bdbd-af71e0a896cd",
   "metadata": {},
   "source": [
    "### Clean FA 2010-20 Dataset"
   ]
  },
  {
   "cell_type": "code",
   "execution_count": 6,
   "id": "1d600b1a-9b64-4b5a-ac7c-c00aab4b0208",
   "metadata": {},
   "outputs": [],
   "source": [
    "fa_2010_w_ids = fa_2010.merge(playersDF, left_on='Name', right_on='full_name')\n",
    "fa_2010_w_ids = fa_2010_w_ids.drop(columns = ['full_name', 'first_name', 'last_name', 'is_active'])\n",
    "fa_2010_w_ids = fa_2010_w_ids.rename(columns={'AVG_SALARY': 'Contract', 'id': 'ID'})"
   ]
  },
  {
   "cell_type": "markdown",
   "id": "3ffea917-85bc-461e-b141-32470cee99eb",
   "metadata": {},
   "source": [
    "### Combine the 2 FA datasets into 1 2010-24 Dataset"
   ]
  },
  {
   "cell_type": "code",
   "execution_count": 7,
   "id": "cff69e8e-137f-4ff8-9b35-7f82fd61696c",
   "metadata": {},
   "outputs": [],
   "source": [
    "fa_total = pd.concat([fa_2010_w_ids, fa_2020])\n",
    "fa_cleaned = fa_total.merge(players_w_ids, left_on=['ID', 'FA_Year'], right_on = ['id', 'Season_FOR'], how='left')\n",
    "fa_cleaned = fa_cleaned.dropna()\n",
    "fa_cleaned = fa_cleaned.drop(columns = ['Age_y', 'Player', 'G', 'MP', 'Season_FOR', 'id'])\n",
    "\n",
    "fa_cleaned.to_csv('./cleaned_data/FA_FULL_cleaned.csv', index=False)\n",
    "con = sqlite3.connect('./nba_data.db')\n",
    "\n",
    "fa_cleaned.to_sql('FA_FULL_cleaned', con = con, index=True, if_exists = 'replace')\n",
    "\n",
    "con.close()"
   ]
  }
 ],
 "metadata": {
  "kernelspec": {
   "display_name": "Python [conda env:PIC16B] *",
   "language": "python",
   "name": "conda-env-PIC16B-py"
  },
  "language_info": {
   "codemirror_mode": {
    "name": "ipython",
    "version": 3
   },
   "file_extension": ".py",
   "mimetype": "text/x-python",
   "name": "python",
   "nbconvert_exporter": "python",
   "pygments_lexer": "ipython3",
   "version": "3.8.15"
  }
 },
 "nbformat": 4,
 "nbformat_minor": 5
}
