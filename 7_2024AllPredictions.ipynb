{
 "cells": [
  {
   "cell_type": "markdown",
   "id": "744377aa-75c2-49b4-a809-ec1c1e3a8a7b",
   "metadata": {},
   "source": [
    "# Predict Contracts for ALL 2024 Players"
   ]
  },
  {
   "cell_type": "code",
   "execution_count": 1,
   "id": "0f708306-6ac8-42d6-aa47-4504bc5d3510",
   "metadata": {},
   "outputs": [],
   "source": [
    "import pickle\n",
    "import pandas as pd"
   ]
  },
  {
   "cell_type": "markdown",
   "id": "2f4dd3a7-5d1f-4f78-923a-b7f0f9f793b5",
   "metadata": {},
   "source": [
    "## Load Best Model"
   ]
  },
  {
   "cell_type": "code",
   "execution_count": 2,
   "id": "61518cbe-1389-46c2-a04a-7a06344995f2",
   "metadata": {},
   "outputs": [],
   "source": [
    "with open('./models/best_model.pkl', 'rb') as f:\n",
    "    forest = pickle.load(f)\n",
    "    \n",
    "with open('./models/best_model_3rd.pkl', 'rb') as f:\n",
    "    forest_3rd = pickle.load(f)"
   ]
  },
  {
   "cell_type": "markdown",
   "id": "63777d82-b7ac-438c-8e9f-993fa5cc01bb",
   "metadata": {},
   "source": [
    "## Build the 2024 Player Stats Dataset"
   ]
  },
  {
   "cell_type": "markdown",
   "id": "20430d78-fb6a-4cad-a2ef-61408d9fa480",
   "metadata": {},
   "source": [
    "### Load Data"
   ]
  },
  {
   "cell_type": "code",
   "execution_count": 3,
   "id": "982118be-737d-4274-af65-6516a38a040d",
   "metadata": {},
   "outputs": [],
   "source": [
    "player_stats = pd.read_csv('./raw_data/2024_player_stats.csv')\n",
    "advanced = pd.read_csv('./advanced_stats/players_advanced_2023.csv')"
   ]
  },
  {
   "cell_type": "markdown",
   "id": "731eef2e-24b8-414d-9d68-b45d31d86bb4",
   "metadata": {},
   "source": [
    "### Transform Data"
   ]
  },
  {
   "cell_type": "code",
   "execution_count": 4,
   "id": "511bae0d-c37b-4120-9b17-9982bb98d67a",
   "metadata": {},
   "outputs": [],
   "source": [
    "advanced = advanced.drop(columns = ['Unnamed: 19', 'Unnamed: 24'])\n",
    "\n",
    "# Get Player Stats + Advanced Stats of 2024\n",
    "player_stats['Player-additional'] = player_stats['Player-additional'].astype(str)\n",
    "advanced['Player-additional'] = advanced['Player-additional'].astype(str)\n",
    "\n",
    "# Merge together\n",
    "full_2024_stats = player_stats.set_index('Player-additional').join(advanced.set_index('Player-additional'), lsuffix='0', how='inner')\n",
    "\n",
    "# Remove Columns\n",
    "full_2024_stats = full_2024_stats[['Player0', 'Pos0', 'Age0', 'eFG%', 'TRB', 'PTS', 'AST', 'STL', 'BLK',\n",
    "               'WS', 'BPM', 'VORP']]\n",
    "\n",
    "# Create New Features\n",
    "full_2024_stats = full_2024_stats.reset_index(drop=True).rename(columns={'Player0': 'Player',\n",
    "                                                       'Pos0': 'POS',\n",
    "                                                       'Age0': 'AGE',\n",
    "                                                       'eFG%': 'eFG'})\n",
    "full_2024_stats['FA_Year'] = 2023\n",
    "full_2024_stats = full_2024_stats.dropna()\n",
    "full_2024_stats['POS_SF'] = pd.get_dummies(full_2024_stats['POS'])['SF']\n",
    "full_2024_stats['POS_PF'] = pd.get_dummies(full_2024_stats['POS'])['PF']"
   ]
  },
  {
   "cell_type": "markdown",
   "id": "75d66e9b-8ac5-4ad7-9cdc-6f6f4c774db4",
   "metadata": {},
   "source": [
    "## Create the 2024 Testing Dataset"
   ]
  },
  {
   "cell_type": "code",
   "execution_count": 5,
   "id": "f00d5a8a-5220-46c9-b901-757d2935b634",
   "metadata": {},
   "outputs": [],
   "source": [
    "X_test = full_2024_stats.drop(columns = ['Player', 'POS'])[['FA_Year', 'AGE', 'eFG', 'PTS', 'AST', 'TRB', 'STL', 'BLK', 'WS', 'BPM', \n",
    "        'VORP', 'POS_PF', 'POS_SF']]\n",
    "X_test = X_test.dropna()"
   ]
  },
  {
   "cell_type": "markdown",
   "id": "4b2900e6-2442-4caa-b671-474e14698ee6",
   "metadata": {},
   "source": [
    "## Predict the Salaries of 2024 Players on the Trained RF Model"
   ]
  },
  {
   "cell_type": "code",
   "execution_count": 6,
   "id": "e0ca2eec-0f74-458a-acae-7421c4ed2c12",
   "metadata": {},
   "outputs": [
    {
     "name": "stderr",
     "output_type": "stream",
     "text": [
      "/Users/joshuali/opt/anaconda3/envs/PIC16B/lib/python3.8/site-packages/sklearn/base.py:402: UserWarning: X has feature names, but RandomForestQuantileRegressor was fitted without feature names\n",
      "  warnings.warn(\n"
     ]
    }
   ],
   "source": [
    "y_preds = forest.predict(X_test) # normal predictions\n",
    "y_3rd = forest_3rd.predict(X_test, quantiles = [0.75]) # upper bound predictions"
   ]
  },
  {
   "cell_type": "code",
   "execution_count": 7,
   "id": "33ef9448-1418-4dd9-a5aa-861e274867d9",
   "metadata": {},
   "outputs": [],
   "source": [
    "# add to the DF\n",
    "full_2024_stats['EXPECTED_CONT'] = y_preds\n",
    "full_2024_stats['UPPER_LIMIT'] = y_3rd"
   ]
  },
  {
   "cell_type": "code",
   "execution_count": 8,
   "id": "fafec5f1-5d1d-42ee-8926-7f573a55a128",
   "metadata": {},
   "outputs": [],
   "source": [
    "stats_and_preds = full_2024_stats.sort_values(by='EXPECTED_CONT', ascending = False)"
   ]
  },
  {
   "cell_type": "markdown",
   "id": "20201289-53ab-4a63-bbdd-84b12cbeaf67",
   "metadata": {},
   "source": [
    "### Miscellaneous Predictions for Boston Celtics Players with Contract Extensions"
   ]
  },
  {
   "cell_type": "code",
   "execution_count": 9,
   "id": "48df9ab8-daf4-416a-8ced-93ffe2847c41",
   "metadata": {},
   "outputs": [
    {
     "data": {
      "text/html": [
       "<div>\n",
       "<style scoped>\n",
       "    .dataframe tbody tr th:only-of-type {\n",
       "        vertical-align: middle;\n",
       "    }\n",
       "\n",
       "    .dataframe tbody tr th {\n",
       "        vertical-align: top;\n",
       "    }\n",
       "\n",
       "    .dataframe thead th {\n",
       "        text-align: right;\n",
       "    }\n",
       "</style>\n",
       "<table border=\"1\" class=\"dataframe\">\n",
       "  <thead>\n",
       "    <tr style=\"text-align: right;\">\n",
       "      <th></th>\n",
       "      <th>Player</th>\n",
       "      <th>POS</th>\n",
       "      <th>AGE</th>\n",
       "      <th>eFG</th>\n",
       "      <th>TRB</th>\n",
       "      <th>PTS</th>\n",
       "      <th>AST</th>\n",
       "      <th>STL</th>\n",
       "      <th>BLK</th>\n",
       "      <th>WS</th>\n",
       "      <th>BPM</th>\n",
       "      <th>VORP</th>\n",
       "      <th>FA_Year</th>\n",
       "      <th>POS_SF</th>\n",
       "      <th>POS_PF</th>\n",
       "      <th>EXPECTED_CONT</th>\n",
       "      <th>UPPER_LIMIT</th>\n",
       "    </tr>\n",
       "  </thead>\n",
       "  <tbody>\n",
       "    <tr>\n",
       "      <th>540</th>\n",
       "      <td>Derrick White</td>\n",
       "      <td>SG</td>\n",
       "      <td>29</td>\n",
       "      <td>0.578</td>\n",
       "      <td>4.2</td>\n",
       "      <td>15.2</td>\n",
       "      <td>5.2</td>\n",
       "      <td>1.0</td>\n",
       "      <td>1.2</td>\n",
       "      <td>8.5</td>\n",
       "      <td>3.8</td>\n",
       "      <td>3.5</td>\n",
       "      <td>2023</td>\n",
       "      <td>0</td>\n",
       "      <td>0</td>\n",
       "      <td>2.568292e+07</td>\n",
       "      <td>32124579.5</td>\n",
       "    </tr>\n",
       "  </tbody>\n",
       "</table>\n",
       "</div>"
      ],
      "text/plain": [
       "            Player POS  AGE    eFG  TRB   PTS  AST  STL  BLK   WS  BPM  VORP  \\\n",
       "540  Derrick White  SG   29  0.578  4.2  15.2  5.2  1.0  1.2  8.5  3.8   3.5   \n",
       "\n",
       "     FA_Year  POS_SF  POS_PF  EXPECTED_CONT  UPPER_LIMIT  \n",
       "540     2023       0       0   2.568292e+07   32124579.5  "
      ]
     },
     "execution_count": 9,
     "metadata": {},
     "output_type": "execute_result"
    }
   ],
   "source": [
    "stats_and_preds.loc[stats_and_preds['Player'] == 'Derrick White', :]"
   ]
  },
  {
   "cell_type": "code",
   "execution_count": 10,
   "id": "3cd819b2-6764-4dec-981a-017f0a950fff",
   "metadata": {},
   "outputs": [
    {
     "data": {
      "text/html": [
       "<div>\n",
       "<style scoped>\n",
       "    .dataframe tbody tr th:only-of-type {\n",
       "        vertical-align: middle;\n",
       "    }\n",
       "\n",
       "    .dataframe tbody tr th {\n",
       "        vertical-align: top;\n",
       "    }\n",
       "\n",
       "    .dataframe thead th {\n",
       "        text-align: right;\n",
       "    }\n",
       "</style>\n",
       "<table border=\"1\" class=\"dataframe\">\n",
       "  <thead>\n",
       "    <tr style=\"text-align: right;\">\n",
       "      <th></th>\n",
       "      <th>Player</th>\n",
       "      <th>POS</th>\n",
       "      <th>AGE</th>\n",
       "      <th>eFG</th>\n",
       "      <th>TRB</th>\n",
       "      <th>PTS</th>\n",
       "      <th>AST</th>\n",
       "      <th>STL</th>\n",
       "      <th>BLK</th>\n",
       "      <th>WS</th>\n",
       "      <th>BPM</th>\n",
       "      <th>VORP</th>\n",
       "      <th>FA_Year</th>\n",
       "      <th>POS_SF</th>\n",
       "      <th>POS_PF</th>\n",
       "      <th>EXPECTED_CONT</th>\n",
       "      <th>UPPER_LIMIT</th>\n",
       "    </tr>\n",
       "  </thead>\n",
       "  <tbody>\n",
       "    <tr>\n",
       "      <th>226</th>\n",
       "      <td>Al Horford</td>\n",
       "      <td>C</td>\n",
       "      <td>37</td>\n",
       "      <td>0.64</td>\n",
       "      <td>6.4</td>\n",
       "      <td>8.6</td>\n",
       "      <td>2.6</td>\n",
       "      <td>0.6</td>\n",
       "      <td>1.0</td>\n",
       "      <td>6.2</td>\n",
       "      <td>3.6</td>\n",
       "      <td>2.5</td>\n",
       "      <td>2023</td>\n",
       "      <td>0</td>\n",
       "      <td>0</td>\n",
       "      <td>9.544650e+06</td>\n",
       "      <td>1.147728e+07</td>\n",
       "    </tr>\n",
       "  </tbody>\n",
       "</table>\n",
       "</div>"
      ],
      "text/plain": [
       "         Player POS  AGE   eFG  TRB  PTS  AST  STL  BLK   WS  BPM  VORP  \\\n",
       "226  Al Horford   C   37  0.64  6.4  8.6  2.6  0.6  1.0  6.2  3.6   2.5   \n",
       "\n",
       "     FA_Year  POS_SF  POS_PF  EXPECTED_CONT   UPPER_LIMIT  \n",
       "226     2023       0       0   9.544650e+06  1.147728e+07  "
      ]
     },
     "execution_count": 10,
     "metadata": {},
     "output_type": "execute_result"
    }
   ],
   "source": [
    "stats_and_preds.loc[stats_and_preds['Player'] == 'Al Horford', :]"
   ]
  },
  {
   "cell_type": "code",
   "execution_count": 11,
   "id": "5a784bdd-6f91-46ac-8f11-e730f94a8f3a",
   "metadata": {},
   "outputs": [
    {
     "data": {
      "text/html": [
       "<div>\n",
       "<style scoped>\n",
       "    .dataframe tbody tr th:only-of-type {\n",
       "        vertical-align: middle;\n",
       "    }\n",
       "\n",
       "    .dataframe tbody tr th {\n",
       "        vertical-align: top;\n",
       "    }\n",
       "\n",
       "    .dataframe thead th {\n",
       "        text-align: right;\n",
       "    }\n",
       "</style>\n",
       "<table border=\"1\" class=\"dataframe\">\n",
       "  <thead>\n",
       "    <tr style=\"text-align: right;\">\n",
       "      <th></th>\n",
       "      <th>Player</th>\n",
       "      <th>POS</th>\n",
       "      <th>AGE</th>\n",
       "      <th>eFG</th>\n",
       "      <th>TRB</th>\n",
       "      <th>PTS</th>\n",
       "      <th>AST</th>\n",
       "      <th>STL</th>\n",
       "      <th>BLK</th>\n",
       "      <th>WS</th>\n",
       "      <th>BPM</th>\n",
       "      <th>VORP</th>\n",
       "      <th>FA_Year</th>\n",
       "      <th>POS_SF</th>\n",
       "      <th>POS_PF</th>\n",
       "      <th>EXPECTED_CONT</th>\n",
       "      <th>UPPER_LIMIT</th>\n",
       "    </tr>\n",
       "  </thead>\n",
       "  <tbody>\n",
       "    <tr>\n",
       "      <th>408</th>\n",
       "      <td>Kristaps Porziņģis</td>\n",
       "      <td>C</td>\n",
       "      <td>28</td>\n",
       "      <td>0.589</td>\n",
       "      <td>7.2</td>\n",
       "      <td>20.1</td>\n",
       "      <td>2.0</td>\n",
       "      <td>0.7</td>\n",
       "      <td>1.9</td>\n",
       "      <td>7.9</td>\n",
       "      <td>5.1</td>\n",
       "      <td>3.0</td>\n",
       "      <td>2023</td>\n",
       "      <td>0</td>\n",
       "      <td>0</td>\n",
       "      <td>2.606640e+07</td>\n",
       "      <td>31600000.0</td>\n",
       "    </tr>\n",
       "  </tbody>\n",
       "</table>\n",
       "</div>"
      ],
      "text/plain": [
       "                 Player POS  AGE    eFG  TRB   PTS  AST  STL  BLK   WS  BPM  \\\n",
       "408  Kristaps Porziņģis   C   28  0.589  7.2  20.1  2.0  0.7  1.9  7.9  5.1   \n",
       "\n",
       "     VORP  FA_Year  POS_SF  POS_PF  EXPECTED_CONT  UPPER_LIMIT  \n",
       "408   3.0     2023       0       0   2.606640e+07   31600000.0  "
      ]
     },
     "execution_count": 11,
     "metadata": {},
     "output_type": "execute_result"
    }
   ],
   "source": [
    "stats_and_preds.loc[stats_and_preds['Player'].str.contains('Kristaps'), :]"
   ]
  },
  {
   "cell_type": "markdown",
   "id": "e7e91434-6354-4b7e-bd8a-aa9c7a2a2194",
   "metadata": {},
   "source": [
    "## Write to Output"
   ]
  },
  {
   "cell_type": "code",
   "execution_count": 12,
   "id": "9a1c2699-3e45-4e62-bf51-22bb7ee93aae",
   "metadata": {},
   "outputs": [],
   "source": [
    "stats_and_preds.to_csv(\"./output/2024_preds.csv\", index=False)"
   ]
  }
 ],
 "metadata": {
  "kernelspec": {
   "display_name": "Python [conda env:PIC16B] *",
   "language": "python",
   "name": "conda-env-PIC16B-py"
  },
  "language_info": {
   "codemirror_mode": {
    "name": "ipython",
    "version": 3
   },
   "file_extension": ".py",
   "mimetype": "text/x-python",
   "name": "python",
   "nbconvert_exporter": "python",
   "pygments_lexer": "ipython3",
   "version": "3.8.15"
  }
 },
 "nbformat": 4,
 "nbformat_minor": 5
}
