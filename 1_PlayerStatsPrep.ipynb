{
 "cells": [
  {
   "cell_type": "code",
   "execution_count": 1,
   "id": "234f7b51-0561-4d25-87b8-b5acb65c15b6",
   "metadata": {},
   "outputs": [],
   "source": [
    "import pandas as pd\n",
    "from nba_api.stats.static import players\n",
    "from nba_api.stats.endpoints import commonplayerinfo\n",
    "import time\n",
    "import sqlite3\n",
    "import os"
   ]
  },
  {
   "cell_type": "code",
   "execution_count": 2,
   "id": "b8861df7-d52e-4a85-96e9-09d6481b9556",
   "metadata": {},
   "outputs": [],
   "source": [
    "playersList = players.get_active_players()"
   ]
  },
  {
   "cell_type": "code",
   "execution_count": 3,
   "id": "61729df6-f8fa-4915-b3c9-b7b24f762fe2",
   "metadata": {},
   "outputs": [],
   "source": [
    "# takes a long time to run\n",
    "# obtain current player info\n",
    "player_bios = []\n",
    "for player in playersList:\n",
    "    player_info = commonplayerinfo.CommonPlayerInfo(player_id=player['id']).get_normalized_dict()\n",
    "    player_bios.append(player_info['CommonPlayerInfo'][0])\n",
    "    time.sleep(2)"
   ]
  },
  {
   "cell_type": "code",
   "execution_count": 4,
   "id": "c0325fdb-c00e-4a0e-acfc-650063a4a798",
   "metadata": {},
   "outputs": [],
   "source": [
    "# Make a DataFrame from the list of players\n",
    "player_df = pd.DataFrame(player_bios)"
   ]
  },
  {
   "cell_type": "code",
   "execution_count": 5,
   "id": "acbd2efe-bf3a-4047-9a50-53f4510d387e",
   "metadata": {},
   "outputs": [],
   "source": [
    "# Keep the relevant info, i.e. Name, Team, Years, NBA 75\n",
    "keep_columns = [\"PERSON_ID\", \"DISPLAY_FIRST_LAST\", \"TEAM_ID\", \"TEAM_ABBREVIATION\", \"FROM_YEAR\", \"TO_YEAR\", \"GREATEST_75_FLAG\"]\n",
    "\n",
    "player_df_new = player_df[keep_columns]"
   ]
  },
  {
   "cell_type": "code",
   "execution_count": 6,
   "id": "56af66c5-91d1-4cc9-b378-521cefbd5f79",
   "metadata": {},
   "outputs": [],
   "source": [
    "# write to a new CSV\n",
    "player_df_new.to_csv('./intermediate_data/curr_team_players.csv', header=True, index=False)"
   ]
  },
  {
   "cell_type": "markdown",
   "id": "d473ab20-97c2-4b99-9745-6fcdaa6c8144",
   "metadata": {
    "tags": []
   },
   "source": [
    "## Merge with Finances"
   ]
  },
  {
   "cell_type": "code",
   "execution_count": 7,
   "id": "dcfd33b0-0a60-4483-9a26-0b0d2797ce26",
   "metadata": {},
   "outputs": [],
   "source": [
    "sqliteConnection = sqlite3.connect('nba_data.db')"
   ]
  },
  {
   "cell_type": "code",
   "execution_count": 8,
   "id": "8b200640-c1b8-49a5-8937-82425bf0ea5f",
   "metadata": {},
   "outputs": [],
   "source": [
    "curr_team_players = pd.read_csv('./intermediate_data/curr_team_players.csv')"
   ]
  },
  {
   "cell_type": "code",
   "execution_count": 9,
   "id": "edd50baa-7096-468e-906a-bef70048dc28",
   "metadata": {},
   "outputs": [],
   "source": [
    "finance = pd.read_csv('./raw_data/Finance.csv')"
   ]
  },
  {
   "cell_type": "code",
   "execution_count": 10,
   "id": "e018a73a-456b-408b-89ec-db4858e649fd",
   "metadata": {},
   "outputs": [],
   "source": [
    "def remap_func(col1, col2):\n",
    "    if col1==0:\n",
    "        return 'Free Agent'\n",
    "    return col2\n",
    "\n",
    "finance['Type'] = finance.apply(lambda x: remap_func(x['Salary'], x['Type']), axis=1)"
   ]
  },
  {
   "cell_type": "code",
   "execution_count": 11,
   "id": "53c03dce-059d-45fa-8915-dc2624c4ea28",
   "metadata": {},
   "outputs": [
    {
     "data": {
      "text/plain": [
       "531"
      ]
     },
     "execution_count": 11,
     "metadata": {},
     "output_type": "execute_result"
    }
   ],
   "source": [
    "curr_team_players.to_sql(name='curr_team_players',\n",
    "                         con=sqliteConnection,\n",
    "                         index=True,\n",
    "                         if_exists='replace')"
   ]
  },
  {
   "cell_type": "code",
   "execution_count": 12,
   "id": "c9edc436-9935-46d0-903d-b511afad50d1",
   "metadata": {},
   "outputs": [
    {
     "data": {
      "text/plain": [
       "3672"
      ]
     },
     "execution_count": 12,
     "metadata": {},
     "output_type": "execute_result"
    }
   ],
   "source": [
    "finance.to_sql(name='finance',\n",
    "               con=sqliteConnection,\n",
    "               index=True,\n",
    "               if_exists='replace')"
   ]
  },
  {
   "cell_type": "code",
   "execution_count": 13,
   "id": "cb7be4cd-d342-4478-a437-c0216173d730",
   "metadata": {},
   "outputs": [],
   "source": [
    "sqliteConnection = sqlite3.connect('nba_data.db')\n",
    "# Create cursor object \n",
    "cursor = sqliteConnection.cursor() \n",
    "  \n",
    "# Query for INNER JOIN \n",
    "sql = '''SELECT C.PERSON_ID, F.Player, C.TEAM_ABBREVIATION, F.Season, F.Salary, F.Type\n",
    "FROM finance F\n",
    "LEFT JOIN curr_team_players C\n",
    "ON F.Player = C.DISPLAY_FIRST_LAST;'''\n",
    "  \n",
    "# Executing the query \n",
    "cursor.execute(sql) \n",
    "  \n",
    "# Fetching rows from the result table \n",
    "result = cursor.fetchall() \n",
    "\n",
    "final_team_df = pd.DataFrame(result, columns = ['ID', 'Name', 'Team', 'Season', 'Salary', 'Type'])\n",
    "  \n",
    "# Closing the connection \n",
    "sqliteConnection.close() "
   ]
  },
  {
   "cell_type": "code",
   "execution_count": 14,
   "id": "65efce5e-2b1c-4c13-805a-25adbd4911c1",
   "metadata": {
    "tags": []
   },
   "outputs": [],
   "source": [
    "final_team_df.to_csv('./intermediate_data/curr_player_salaries.csv', index=False)"
   ]
  }
 ],
 "metadata": {
  "kernelspec": {
   "display_name": "Python [conda env:PIC16B] *",
   "language": "python",
   "name": "conda-env-PIC16B-py"
  },
  "language_info": {
   "codemirror_mode": {
    "name": "ipython",
    "version": 3
   },
   "file_extension": ".py",
   "mimetype": "text/x-python",
   "name": "python",
   "nbconvert_exporter": "python",
   "pygments_lexer": "ipython3",
   "version": "3.8.15"
  }
 },
 "nbformat": 4,
 "nbformat_minor": 5
}
