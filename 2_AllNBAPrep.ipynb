{
 "cells": [
  {
   "cell_type": "code",
   "execution_count": 1,
   "id": "1371a2b1-8e7d-4f92-bbe7-c757dd5bd283",
   "metadata": {},
   "outputs": [],
   "source": [
    "import pandas as pd\n",
    "import sqlite3"
   ]
  },
  {
   "cell_type": "markdown",
   "id": "9a24e217-c588-4049-9cf0-86ca41315b41",
   "metadata": {
    "tags": []
   },
   "source": [
    "## All-NBA"
   ]
  },
  {
   "cell_type": "markdown",
   "id": "0abcf1e1-7203-4a92-9688-94561567d259",
   "metadata": {},
   "source": [
    "### Load Data"
   ]
  },
  {
   "cell_type": "code",
   "execution_count": 2,
   "id": "99c321ca-e1a3-4122-9e34-f4055af20703",
   "metadata": {},
   "outputs": [],
   "source": [
    "# Read in All NBA data from the last 10 years\n",
    "allnba = pd.read_csv('./raw_data/allnba.csv')"
   ]
  },
  {
   "cell_type": "markdown",
   "id": "38f0f6af-8bda-4a2f-92d7-6f9bec46b901",
   "metadata": {},
   "source": [
    "### Clean Data"
   ]
  },
  {
   "cell_type": "code",
   "execution_count": 3,
   "id": "a9bdb108-ff90-493f-967d-cb761f278191",
   "metadata": {},
   "outputs": [],
   "source": [
    "# build an ID based on season and All-NBA team #\n",
    "allnba['id'] = allnba['Season'] + ' ' + allnba['Tm']\n",
    "\n",
    "# make it fit for data consumption\n",
    "allnba_cleaned = pd.wide_to_long(allnba, ['P'], i = 'id', j = 'Tm')\n",
    "\n",
    "# Data String Formatting\n",
    "allnba_cleaned[['FirstName', 'LastName', 'Position']] = allnba_cleaned['P'].str.split(' ', expand = True)\n",
    "allnba_cleaned.loc[allnba_cleaned['LastName'].str.contains('Don'), 'LastName'] = 'Doncic'\n",
    "allnba_cleaned.loc[allnba_cleaned['LastName'].str.contains('Joki'), 'LastName'] = 'Jokic'\n",
    "\n",
    "# Transforming Data\n",
    "allnba_cleaned = allnba_cleaned.reset_index(drop=True)\n",
    "allnba_cleaned['Name'] = allnba_cleaned['FirstName'] + ' ' + allnba_cleaned['LastName']\n",
    "allnba_cleaned['Season_start'] = allnba_cleaned['Season'].str[0:4]\n",
    "allnba_cleaned = allnba_cleaned.drop(columns = ['Lg', 'Voting', 'P', 'FirstName', 'LastName', 'Position'])\n",
    "allnba_cleaned['is_AllNBA'] = 1"
   ]
  },
  {
   "cell_type": "markdown",
   "id": "52ee985d-a58e-44d9-a534-357cc6cfb8ea",
   "metadata": {},
   "source": [
    "## All Star"
   ]
  },
  {
   "cell_type": "markdown",
   "id": "1dc22ca2-0b7e-43ce-a6be-9a73e36c7dcb",
   "metadata": {},
   "source": [
    "### Load Data"
   ]
  },
  {
   "cell_type": "code",
   "execution_count": 4,
   "id": "bd4d1a0b-d5c1-430b-83ea-9cbbeb848632",
   "metadata": {},
   "outputs": [],
   "source": [
    "# Read in all star data\n",
    "allstar = pd.read_csv('./raw_data/final_data.csv')"
   ]
  },
  {
   "cell_type": "markdown",
   "id": "a752872d-f3fb-4ca6-bcde-7fa55d5a1d67",
   "metadata": {},
   "source": [
    "### Clean Data"
   ]
  },
  {
   "cell_type": "code",
   "execution_count": 5,
   "id": "8eb22ec1-00cd-470c-969c-488933ef20ec",
   "metadata": {},
   "outputs": [],
   "source": [
    "# get all star data since 2010\n",
    "allstar = allstar.loc[allstar['year'] > 2010, ['first', 'last', 'team', 'year']]\n",
    "\n",
    "# Transform Data\n",
    "allstar['Name'] = allstar['first'] + ' ' + allstar['last']\n",
    "allstar['Season'] = allstar.apply(lambda x: str(x['year']) + '-' + str(x['year']+1)[2:], axis=1)\n",
    "allstar = allstar.drop(columns = ['first', 'last'])\n",
    "allstar['isAllStar'] = 1"
   ]
  },
  {
   "cell_type": "markdown",
   "id": "3c6d89a3-0dcb-4d69-8f5f-0ef20beba2e7",
   "metadata": {},
   "source": [
    "## SQL Connection"
   ]
  },
  {
   "cell_type": "code",
   "execution_count": 6,
   "id": "2998f893-8ec3-45d6-957c-7d5df3dd56c8",
   "metadata": {},
   "outputs": [],
   "source": [
    "con = sqlite3.connect('./nba_data.db')\n",
    "\n",
    "# create SQL tables from the tables\n",
    "allnba_cleaned.to_sql('allNBA', con, index=True, if_exists='replace')\n",
    "allstar.to_sql('allStar', con, index=True, if_exists='replace')\n",
    "\n",
    "con.close()"
   ]
  }
 ],
 "metadata": {
  "kernelspec": {
   "display_name": "Python [conda env:PIC16B] *",
   "language": "python",
   "name": "conda-env-PIC16B-py"
  },
  "language_info": {
   "codemirror_mode": {
    "name": "ipython",
    "version": 3
   },
   "file_extension": ".py",
   "mimetype": "text/x-python",
   "name": "python",
   "nbconvert_exporter": "python",
   "pygments_lexer": "ipython3",
   "version": "3.8.15"
  }
 },
 "nbformat": 4,
 "nbformat_minor": 5
}
